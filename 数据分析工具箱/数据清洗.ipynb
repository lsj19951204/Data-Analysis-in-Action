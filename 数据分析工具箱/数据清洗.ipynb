{
 "cells": [
  {
   "cell_type": "markdown",
   "metadata": {},
   "source": [
    "### 1. 删除多列数据"
   ]
  },
  {
   "cell_type": "code",
   "execution_count": 1,
   "metadata": {},
   "outputs": [],
   "source": [
    "#有时，并不是所有列都对我们的分析有用。\n",
    "#因此，df.drop函数是一个得心应手的工具去移除你指定的列。\n",
    "\n",
    "def drp_multiple_col(col_names_list, df):\n",
    "    df.drop(col_names_list, axis=1, inplace=True)"
   ]
  },
  {
   "cell_type": "markdown",
   "metadata": {},
   "source": [
    "### 2. 改变数据类型"
   ]
  },
  {
   "cell_type": "code",
   "execution_count": 2,
   "metadata": {},
   "outputs": [],
   "source": [
    "#当一个数据集变大时，我们需要dtypes 。\n",
    "def change_dtypes(col_int, col_float, df):\n",
    "    df[col_int] = df[col_int].astype('int32')\n",
    "    df[col_float] = df[col_float].astype('float32')"
   ]
  },
  {
   "cell_type": "markdown",
   "metadata": {},
   "source": [
    "### 3. 将类别变量转为数值变量"
   ]
  },
  {
   "cell_type": "code",
   "execution_count": 3,
   "metadata": {},
   "outputs": [],
   "source": [
    "#有些机器学习模型要求变量为数值形式。\n",
    "#这时，在把数据输入进模型前，我们需要将类别变量转为数值变量。\n",
    "def convert_cat2num(df):\n",
    "    num_encode = { 'col_1': {'YES':1, 'NO':0},\n",
    "                               'col_2': {'WON': 1, 'LOSE': 0, 'DRAW': 0}}\n",
    "    df.replace(num_code, inplace=True)"
   ]
  },
  {
   "cell_type": "markdown",
   "metadata": {},
   "source": [
    "### 4. 检查丢失数据 "
   ]
  },
  {
   "cell_type": "code",
   "execution_count": 4,
   "metadata": {},
   "outputs": [],
   "source": [
    "def check_missing_data(df):\n",
    "    return df.isnull().sum().sort_values(ascending=False)"
   ]
  },
  {
   "cell_type": "markdown",
   "metadata": {},
   "source": [
    "### 5. 在列中移除字符串"
   ]
  },
  {
   "cell_type": "code",
   "execution_count": 5,
   "metadata": {},
   "outputs": [],
   "source": [
    "#有些时候，在你字符串类型的列中，你可能要面对换行符或是奇怪的符号的出现。\n",
    "#这个问题可以被df['col_1'].replace轻松解决, 其中，col_1指的是数据帧中的某列。\n",
    "def remove_col_str(df):\n",
    "    # remove a portion of string in a datafram column - col_1\n",
    "    df['col_1'].replace('\\n', '', regex=True, inplace=True)\n",
    "    # remove all the characters after &#(including &#) for column-col_1\n",
    "    df['col_1'].replace(' &#.*', '', regex=True, inplace=True)"
   ]
  },
  {
   "cell_type": "markdown",
   "metadata": {},
   "source": [
    "### 6. 在列中移除空格"
   ]
  },
  {
   "cell_type": "code",
   "execution_count": 6,
   "metadata": {},
   "outputs": [],
   "source": [
    "def remove_col_white_space(df):\n",
    "    # remove white space at the beginning of string\n",
    "    df[col] = df[col].str.lstrip() "
   ]
  },
  {
   "cell_type": "markdown",
   "metadata": {},
   "source": [
    "### 7. 用字符串（在指定条件下）合并列"
   ]
  },
  {
   "cell_type": "code",
   "execution_count": 7,
   "metadata": {},
   "outputs": [],
   "source": [
    "#当你想通过字符串把两列有条件的合并时，这个办法便派上用场。\n",
    "#譬如，你想把第一列和第二列合并，条件是根据第一列中以特定字母们结束的字符串。\n",
    "#在合并后，根据你的需要，末尾字母们也可被移除。\n",
    "def concat_col_str_condition(df):\n",
    "    # concat 2 columns with strings if the last 3 letters of the first column are 'pil'\n",
    "    mask = df['col_1'].str.endswith('pil', na=False)\n",
    "    col_new = df[mask]['col_1'] + df[mask]['col_2']\n",
    "    col_new.replace('pil', ' ', regex=True, inplace=True) \n",
    "    #replace the 'pil' with empty space"
   ]
  },
  {
   "cell_type": "markdown",
   "metadata": {},
   "source": [
    "### 8.转换时间戳（从string到datetime类型）"
   ]
  },
  {
   "cell_type": "code",
   "execution_count": null,
   "metadata": {},
   "outputs": [],
   "source": [
    "#当处理时间序列数据时，这意味着我们很可能要将string格式转换到datetime格式\n",
    "#——基于我们要求的特定格式——以便用数据做出有意义的分析和演示。\n",
    "\n",
    "def conver_str_datetime(df):\n",
    "    df.insert(loc=2, column=\"timestamp\",\n",
    "              value=pd.to_datetime(df.transdate, format='%Y-%m-%d %H:%M:%S\")"
   ]
  }
 ],
 "metadata": {
  "kernelspec": {
   "display_name": "Python 3",
   "language": "python",
   "name": "python3"
  },
  "language_info": {
   "codemirror_mode": {
    "name": "ipython",
    "version": 3
   },
   "file_extension": ".py",
   "mimetype": "text/x-python",
   "name": "python",
   "nbconvert_exporter": "python",
   "pygments_lexer": "ipython3",
   "version": "3.7.1"
  }
 },
 "nbformat": 4,
 "nbformat_minor": 2
}
