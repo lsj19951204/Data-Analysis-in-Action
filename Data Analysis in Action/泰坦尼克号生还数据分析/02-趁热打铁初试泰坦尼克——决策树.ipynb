{
 "cells": [
  {
   "cell_type": "markdown",
   "metadata": {},
   "source": [
    "### 导入数据"
   ]
  },
  {
   "cell_type": "code",
   "execution_count": 31,
   "metadata": {},
   "outputs": [],
   "source": [
    "import numpy as np\n",
    "import pandas as pd\n",
    "import matplotlib.pyplot as plt"
   ]
  },
  {
   "cell_type": "code",
   "execution_count": 3,
   "metadata": {},
   "outputs": [],
   "source": [
    "df = pd.read_csv('data/titanic/train.csv',index_col=0)"
   ]
  },
  {
   "cell_type": "code",
   "execution_count": 4,
   "metadata": {},
   "outputs": [
    {
     "data": {
      "text/html": [
       "<div>\n",
       "<style scoped>\n",
       "    .dataframe tbody tr th:only-of-type {\n",
       "        vertical-align: middle;\n",
       "    }\n",
       "\n",
       "    .dataframe tbody tr th {\n",
       "        vertical-align: top;\n",
       "    }\n",
       "\n",
       "    .dataframe thead th {\n",
       "        text-align: right;\n",
       "    }\n",
       "</style>\n",
       "<table border=\"1\" class=\"dataframe\">\n",
       "  <thead>\n",
       "    <tr style=\"text-align: right;\">\n",
       "      <th></th>\n",
       "      <th>Survived</th>\n",
       "      <th>Pclass</th>\n",
       "      <th>Name</th>\n",
       "      <th>Sex</th>\n",
       "      <th>Age</th>\n",
       "      <th>SibSp</th>\n",
       "      <th>Parch</th>\n",
       "      <th>Ticket</th>\n",
       "      <th>Fare</th>\n",
       "      <th>Cabin</th>\n",
       "      <th>Embarked</th>\n",
       "    </tr>\n",
       "    <tr>\n",
       "      <th>PassengerId</th>\n",
       "      <th></th>\n",
       "      <th></th>\n",
       "      <th></th>\n",
       "      <th></th>\n",
       "      <th></th>\n",
       "      <th></th>\n",
       "      <th></th>\n",
       "      <th></th>\n",
       "      <th></th>\n",
       "      <th></th>\n",
       "      <th></th>\n",
       "    </tr>\n",
       "  </thead>\n",
       "  <tbody>\n",
       "    <tr>\n",
       "      <th>1</th>\n",
       "      <td>0</td>\n",
       "      <td>3</td>\n",
       "      <td>Braund, Mr. Owen Harris</td>\n",
       "      <td>male</td>\n",
       "      <td>22.0</td>\n",
       "      <td>1</td>\n",
       "      <td>0</td>\n",
       "      <td>A/5 21171</td>\n",
       "      <td>7.2500</td>\n",
       "      <td>NaN</td>\n",
       "      <td>S</td>\n",
       "    </tr>\n",
       "    <tr>\n",
       "      <th>2</th>\n",
       "      <td>1</td>\n",
       "      <td>1</td>\n",
       "      <td>Cumings, Mrs. John Bradley (Florence Briggs Th...</td>\n",
       "      <td>female</td>\n",
       "      <td>38.0</td>\n",
       "      <td>1</td>\n",
       "      <td>0</td>\n",
       "      <td>PC 17599</td>\n",
       "      <td>71.2833</td>\n",
       "      <td>C85</td>\n",
       "      <td>C</td>\n",
       "    </tr>\n",
       "    <tr>\n",
       "      <th>3</th>\n",
       "      <td>1</td>\n",
       "      <td>3</td>\n",
       "      <td>Heikkinen, Miss. Laina</td>\n",
       "      <td>female</td>\n",
       "      <td>26.0</td>\n",
       "      <td>0</td>\n",
       "      <td>0</td>\n",
       "      <td>STON/O2. 3101282</td>\n",
       "      <td>7.9250</td>\n",
       "      <td>NaN</td>\n",
       "      <td>S</td>\n",
       "    </tr>\n",
       "    <tr>\n",
       "      <th>4</th>\n",
       "      <td>1</td>\n",
       "      <td>1</td>\n",
       "      <td>Futrelle, Mrs. Jacques Heath (Lily May Peel)</td>\n",
       "      <td>female</td>\n",
       "      <td>35.0</td>\n",
       "      <td>1</td>\n",
       "      <td>0</td>\n",
       "      <td>113803</td>\n",
       "      <td>53.1000</td>\n",
       "      <td>C123</td>\n",
       "      <td>S</td>\n",
       "    </tr>\n",
       "    <tr>\n",
       "      <th>5</th>\n",
       "      <td>0</td>\n",
       "      <td>3</td>\n",
       "      <td>Allen, Mr. William Henry</td>\n",
       "      <td>male</td>\n",
       "      <td>35.0</td>\n",
       "      <td>0</td>\n",
       "      <td>0</td>\n",
       "      <td>373450</td>\n",
       "      <td>8.0500</td>\n",
       "      <td>NaN</td>\n",
       "      <td>S</td>\n",
       "    </tr>\n",
       "  </tbody>\n",
       "</table>\n",
       "</div>"
      ],
      "text/plain": [
       "             Survived  Pclass  \\\n",
       "PassengerId                     \n",
       "1                   0       3   \n",
       "2                   1       1   \n",
       "3                   1       3   \n",
       "4                   1       1   \n",
       "5                   0       3   \n",
       "\n",
       "                                                          Name     Sex   Age  \\\n",
       "PassengerId                                                                    \n",
       "1                                      Braund, Mr. Owen Harris    male  22.0   \n",
       "2            Cumings, Mrs. John Bradley (Florence Briggs Th...  female  38.0   \n",
       "3                                       Heikkinen, Miss. Laina  female  26.0   \n",
       "4                 Futrelle, Mrs. Jacques Heath (Lily May Peel)  female  35.0   \n",
       "5                                     Allen, Mr. William Henry    male  35.0   \n",
       "\n",
       "             SibSp  Parch            Ticket     Fare Cabin Embarked  \n",
       "PassengerId                                                          \n",
       "1                1      0         A/5 21171   7.2500   NaN        S  \n",
       "2                1      0          PC 17599  71.2833   C85        C  \n",
       "3                0      0  STON/O2. 3101282   7.9250   NaN        S  \n",
       "4                1      0            113803  53.1000  C123        S  \n",
       "5                0      0            373450   8.0500   NaN        S  "
      ]
     },
     "execution_count": 4,
     "metadata": {},
     "output_type": "execute_result"
    }
   ],
   "source": [
    "df.head()"
   ]
  },
  {
   "cell_type": "markdown",
   "metadata": {},
   "source": [
    "### 数据预处理"
   ]
  },
  {
   "cell_type": "code",
   "execution_count": 5,
   "metadata": {},
   "outputs": [
    {
     "data": {
      "text/html": [
       "<div>\n",
       "<style scoped>\n",
       "    .dataframe tbody tr th:only-of-type {\n",
       "        vertical-align: middle;\n",
       "    }\n",
       "\n",
       "    .dataframe tbody tr th {\n",
       "        vertical-align: top;\n",
       "    }\n",
       "\n",
       "    .dataframe thead th {\n",
       "        text-align: right;\n",
       "    }\n",
       "</style>\n",
       "<table border=\"1\" class=\"dataframe\">\n",
       "  <thead>\n",
       "    <tr style=\"text-align: right;\">\n",
       "      <th></th>\n",
       "      <th>Survived</th>\n",
       "      <th>Pclass</th>\n",
       "      <th>Sex</th>\n",
       "      <th>Age</th>\n",
       "      <th>SibSp</th>\n",
       "      <th>Parch</th>\n",
       "      <th>Fare</th>\n",
       "      <th>Embarked</th>\n",
       "    </tr>\n",
       "    <tr>\n",
       "      <th>PassengerId</th>\n",
       "      <th></th>\n",
       "      <th></th>\n",
       "      <th></th>\n",
       "      <th></th>\n",
       "      <th></th>\n",
       "      <th></th>\n",
       "      <th></th>\n",
       "      <th></th>\n",
       "    </tr>\n",
       "  </thead>\n",
       "  <tbody>\n",
       "    <tr>\n",
       "      <th>1</th>\n",
       "      <td>0</td>\n",
       "      <td>3</td>\n",
       "      <td>male</td>\n",
       "      <td>22.0</td>\n",
       "      <td>1</td>\n",
       "      <td>0</td>\n",
       "      <td>7.2500</td>\n",
       "      <td>S</td>\n",
       "    </tr>\n",
       "    <tr>\n",
       "      <th>2</th>\n",
       "      <td>1</td>\n",
       "      <td>1</td>\n",
       "      <td>female</td>\n",
       "      <td>38.0</td>\n",
       "      <td>1</td>\n",
       "      <td>0</td>\n",
       "      <td>71.2833</td>\n",
       "      <td>C</td>\n",
       "    </tr>\n",
       "    <tr>\n",
       "      <th>3</th>\n",
       "      <td>1</td>\n",
       "      <td>3</td>\n",
       "      <td>female</td>\n",
       "      <td>26.0</td>\n",
       "      <td>0</td>\n",
       "      <td>0</td>\n",
       "      <td>7.9250</td>\n",
       "      <td>S</td>\n",
       "    </tr>\n",
       "    <tr>\n",
       "      <th>4</th>\n",
       "      <td>1</td>\n",
       "      <td>1</td>\n",
       "      <td>female</td>\n",
       "      <td>35.0</td>\n",
       "      <td>1</td>\n",
       "      <td>0</td>\n",
       "      <td>53.1000</td>\n",
       "      <td>S</td>\n",
       "    </tr>\n",
       "    <tr>\n",
       "      <th>5</th>\n",
       "      <td>0</td>\n",
       "      <td>3</td>\n",
       "      <td>male</td>\n",
       "      <td>35.0</td>\n",
       "      <td>0</td>\n",
       "      <td>0</td>\n",
       "      <td>8.0500</td>\n",
       "      <td>S</td>\n",
       "    </tr>\n",
       "  </tbody>\n",
       "</table>\n",
       "</div>"
      ],
      "text/plain": [
       "             Survived  Pclass     Sex   Age  SibSp  Parch     Fare Embarked\n",
       "PassengerId                                                                \n",
       "1                   0       3    male  22.0      1      0   7.2500        S\n",
       "2                   1       1  female  38.0      1      0  71.2833        C\n",
       "3                   1       3  female  26.0      0      0   7.9250        S\n",
       "4                   1       1  female  35.0      1      0  53.1000        S\n",
       "5                   0       3    male  35.0      0      0   8.0500        S"
      ]
     },
     "execution_count": 5,
     "metadata": {},
     "output_type": "execute_result"
    }
   ],
   "source": [
    "#简化数据\n",
    "df.drop(['Name', 'Ticket', 'Cabin'], axis=1, inplace=True)\n",
    "df.head()"
   ]
  },
  {
   "cell_type": "markdown",
   "metadata": {},
   "source": [
    "数据类型转换：将性别转换为0-1变量类型"
   ]
  },
  {
   "cell_type": "code",
   "execution_count": 10,
   "metadata": {},
   "outputs": [],
   "source": [
    "def f1(x):\n",
    "    if x == 'male':\n",
    "        return 1\n",
    "    else:\n",
    "        return 0"
   ]
  },
  {
   "cell_type": "code",
   "execution_count": 7,
   "metadata": {},
   "outputs": [],
   "source": [
    "df['Sex'] = df['Sex'].apply(f1)"
   ]
  },
  {
   "cell_type": "code",
   "execution_count": 15,
   "metadata": {},
   "outputs": [
    {
     "data": {
      "text/html": [
       "<div>\n",
       "<style scoped>\n",
       "    .dataframe tbody tr th:only-of-type {\n",
       "        vertical-align: middle;\n",
       "    }\n",
       "\n",
       "    .dataframe tbody tr th {\n",
       "        vertical-align: top;\n",
       "    }\n",
       "\n",
       "    .dataframe thead th {\n",
       "        text-align: right;\n",
       "    }\n",
       "</style>\n",
       "<table border=\"1\" class=\"dataframe\">\n",
       "  <thead>\n",
       "    <tr style=\"text-align: right;\">\n",
       "      <th></th>\n",
       "      <th>Survived</th>\n",
       "      <th>Pclass</th>\n",
       "      <th>Sex</th>\n",
       "      <th>Age</th>\n",
       "      <th>SibSp</th>\n",
       "      <th>Parch</th>\n",
       "      <th>Fare</th>\n",
       "      <th>Embarked</th>\n",
       "    </tr>\n",
       "    <tr>\n",
       "      <th>PassengerId</th>\n",
       "      <th></th>\n",
       "      <th></th>\n",
       "      <th></th>\n",
       "      <th></th>\n",
       "      <th></th>\n",
       "      <th></th>\n",
       "      <th></th>\n",
       "      <th></th>\n",
       "    </tr>\n",
       "  </thead>\n",
       "  <tbody>\n",
       "    <tr>\n",
       "      <th>1</th>\n",
       "      <td>0</td>\n",
       "      <td>3</td>\n",
       "      <td>1</td>\n",
       "      <td>22.0</td>\n",
       "      <td>1</td>\n",
       "      <td>0</td>\n",
       "      <td>7.2500</td>\n",
       "      <td>S</td>\n",
       "    </tr>\n",
       "    <tr>\n",
       "      <th>2</th>\n",
       "      <td>1</td>\n",
       "      <td>1</td>\n",
       "      <td>0</td>\n",
       "      <td>38.0</td>\n",
       "      <td>1</td>\n",
       "      <td>0</td>\n",
       "      <td>71.2833</td>\n",
       "      <td>C</td>\n",
       "    </tr>\n",
       "    <tr>\n",
       "      <th>3</th>\n",
       "      <td>1</td>\n",
       "      <td>3</td>\n",
       "      <td>0</td>\n",
       "      <td>26.0</td>\n",
       "      <td>0</td>\n",
       "      <td>0</td>\n",
       "      <td>7.9250</td>\n",
       "      <td>S</td>\n",
       "    </tr>\n",
       "    <tr>\n",
       "      <th>4</th>\n",
       "      <td>1</td>\n",
       "      <td>1</td>\n",
       "      <td>0</td>\n",
       "      <td>35.0</td>\n",
       "      <td>1</td>\n",
       "      <td>0</td>\n",
       "      <td>53.1000</td>\n",
       "      <td>S</td>\n",
       "    </tr>\n",
       "    <tr>\n",
       "      <th>5</th>\n",
       "      <td>0</td>\n",
       "      <td>3</td>\n",
       "      <td>1</td>\n",
       "      <td>35.0</td>\n",
       "      <td>0</td>\n",
       "      <td>0</td>\n",
       "      <td>8.0500</td>\n",
       "      <td>S</td>\n",
       "    </tr>\n",
       "  </tbody>\n",
       "</table>\n",
       "</div>"
      ],
      "text/plain": [
       "             Survived  Pclass  Sex   Age  SibSp  Parch     Fare Embarked\n",
       "PassengerId                                                             \n",
       "1                   0       3    1  22.0      1      0   7.2500        S\n",
       "2                   1       1    0  38.0      1      0  71.2833        C\n",
       "3                   1       3    0  26.0      0      0   7.9250        S\n",
       "4                   1       1    0  35.0      1      0  53.1000        S\n",
       "5                   0       3    1  35.0      0      0   8.0500        S"
      ]
     },
     "execution_count": 15,
     "metadata": {},
     "output_type": "execute_result"
    }
   ],
   "source": [
    "df.head()"
   ]
  },
  {
   "cell_type": "markdown",
   "metadata": {},
   "source": [
    "由于Embarked列有缺失值，通过seaborn进行可视化，发现S值最多，所以通过S值进行缺失值填充。"
   ]
  },
  {
   "cell_type": "code",
   "execution_count": 16,
   "metadata": {},
   "outputs": [
    {
     "data": {
      "text/plain": [
       "array(['S', 'C', 'Q', nan], dtype=object)"
      ]
     },
     "execution_count": 16,
     "metadata": {},
     "output_type": "execute_result"
    }
   ],
   "source": [
    "df['Embarked'].unique()"
   ]
  },
  {
   "cell_type": "code",
   "execution_count": 17,
   "metadata": {},
   "outputs": [
    {
     "data": {
      "text/plain": [
       "S    644\n",
       "C    168\n",
       "Q     77\n",
       "Name: Embarked, dtype: int64"
      ]
     },
     "execution_count": 17,
     "metadata": {},
     "output_type": "execute_result"
    }
   ],
   "source": [
    "df['Embarked'].value_counts()"
   ]
  },
  {
   "cell_type": "code",
   "execution_count": 32,
   "metadata": {},
   "outputs": [],
   "source": [
    "import seaborn as sns\n",
    "import matplotlib.pyplot as plt\n",
    "%matplotlib inline"
   ]
  },
  {
   "cell_type": "code",
   "execution_count": 33,
   "metadata": {},
   "outputs": [
    {
     "data": {
      "text/plain": [
       "<matplotlib.axes._subplots.AxesSubplot at 0x1a20779ef0>"
      ]
     },
     "execution_count": 33,
     "metadata": {},
     "output_type": "execute_result"
    },
    {
     "data": {
      "image/png": "[encoded data removed]",
      "text/plain": [
       "<Figure size 432x288 with 1 Axes>"
      ]
     },
     "metadata": {
      "needs_background": "light"
     },
     "output_type": "display_data"
    }
   ],
   "source": [
    "sns.countplot(x=\"Embarked\",data=df)"
   ]
  },
  {
   "cell_type": "code",
   "execution_count": 34,
   "metadata": {},
   "outputs": [],
   "source": [
    "df['Embarked'] = df['Embarked'].fillna('S')"
   ]
  },
  {
   "cell_type": "code",
   "execution_count": 35,
   "metadata": {},
   "outputs": [
    {
     "data": {
      "text/html": [
       "<div>\n",
       "<style scoped>\n",
       "    .dataframe tbody tr th:only-of-type {\n",
       "        vertical-align: middle;\n",
       "    }\n",
       "\n",
       "    .dataframe tbody tr th {\n",
       "        vertical-align: top;\n",
       "    }\n",
       "\n",
       "    .dataframe thead th {\n",
       "        text-align: right;\n",
       "    }\n",
       "</style>\n",
       "<table border=\"1\" class=\"dataframe\">\n",
       "  <thead>\n",
       "    <tr style=\"text-align: right;\">\n",
       "      <th></th>\n",
       "      <th>Survived</th>\n",
       "      <th>Pclass</th>\n",
       "      <th>Sex</th>\n",
       "      <th>Age</th>\n",
       "      <th>SibSp</th>\n",
       "      <th>Parch</th>\n",
       "      <th>Fare</th>\n",
       "      <th>Embarked</th>\n",
       "    </tr>\n",
       "    <tr>\n",
       "      <th>PassengerId</th>\n",
       "      <th></th>\n",
       "      <th></th>\n",
       "      <th></th>\n",
       "      <th></th>\n",
       "      <th></th>\n",
       "      <th></th>\n",
       "      <th></th>\n",
       "      <th></th>\n",
       "    </tr>\n",
       "  </thead>\n",
       "  <tbody>\n",
       "    <tr>\n",
       "      <th>1</th>\n",
       "      <td>0</td>\n",
       "      <td>3</td>\n",
       "      <td>1</td>\n",
       "      <td>22.0</td>\n",
       "      <td>1</td>\n",
       "      <td>0</td>\n",
       "      <td>7.2500</td>\n",
       "      <td>0</td>\n",
       "    </tr>\n",
       "    <tr>\n",
       "      <th>2</th>\n",
       "      <td>1</td>\n",
       "      <td>1</td>\n",
       "      <td>0</td>\n",
       "      <td>38.0</td>\n",
       "      <td>1</td>\n",
       "      <td>0</td>\n",
       "      <td>71.2833</td>\n",
       "      <td>1</td>\n",
       "    </tr>\n",
       "    <tr>\n",
       "      <th>3</th>\n",
       "      <td>1</td>\n",
       "      <td>3</td>\n",
       "      <td>0</td>\n",
       "      <td>26.0</td>\n",
       "      <td>0</td>\n",
       "      <td>0</td>\n",
       "      <td>7.9250</td>\n",
       "      <td>0</td>\n",
       "    </tr>\n",
       "    <tr>\n",
       "      <th>4</th>\n",
       "      <td>1</td>\n",
       "      <td>1</td>\n",
       "      <td>0</td>\n",
       "      <td>35.0</td>\n",
       "      <td>1</td>\n",
       "      <td>0</td>\n",
       "      <td>53.1000</td>\n",
       "      <td>0</td>\n",
       "    </tr>\n",
       "    <tr>\n",
       "      <th>5</th>\n",
       "      <td>0</td>\n",
       "      <td>3</td>\n",
       "      <td>1</td>\n",
       "      <td>35.0</td>\n",
       "      <td>0</td>\n",
       "      <td>0</td>\n",
       "      <td>8.0500</td>\n",
       "      <td>0</td>\n",
       "    </tr>\n",
       "  </tbody>\n",
       "</table>\n",
       "</div>"
      ],
      "text/plain": [
       "             Survived  Pclass  Sex   Age  SibSp  Parch     Fare  Embarked\n",
       "PassengerId                                                              \n",
       "1                   0       3    1  22.0      1      0   7.2500         0\n",
       "2                   1       1    0  38.0      1      0  71.2833         1\n",
       "3                   1       3    0  26.0      0      0   7.9250         0\n",
       "4                   1       1    0  35.0      1      0  53.1000         0\n",
       "5                   0       3    1  35.0      0      0   8.0500         0"
      ]
     },
     "execution_count": 35,
     "metadata": {},
     "output_type": "execute_result"
    }
   ],
   "source": [
    "labels = df['Embarked'].unique().tolist()\n",
    "df['Embarked'] = df['Embarked'].apply(lambda n: labels.index(n))\n",
    "df.head()"
   ]
  },
  {
   "cell_type": "markdown",
   "metadata": {},
   "source": [
    "年龄字段也有缺失值，我们通过绘制直方图，发现基本呈正态分布，于是使用平均值来填充缺失值。"
   ]
  },
  {
   "cell_type": "code",
   "execution_count": 36,
   "metadata": {},
   "outputs": [
    {
     "data": {
      "text/plain": [
       "0"
      ]
     },
     "execution_count": 36,
     "metadata": {},
     "output_type": "execute_result"
    }
   ],
   "source": [
    "df['Age'].isnull().sum()"
   ]
  },
  {
   "cell_type": "code",
   "execution_count": 37,
   "metadata": {},
   "outputs": [
    {
     "data": {
      "text/plain": [
       "<matplotlib.axes._subplots.AxesSubplot at 0x1a20830358>"
      ]
     },
     "execution_count": 37,
     "metadata": {},
     "output_type": "execute_result"
    },
    {
     "data": {
      "image/png": "[encoded data removed]",
      "text/plain": [
       "<Figure size 432x288 with 1 Axes>"
      ]
     },
     "metadata": {},
     "output_type": "display_data"
    }
   ],
   "source": [
    "sns.set(style=\"darkgrid\", palette=\"muted\", color_codes=True)    \n",
    "sns.distplot(df[df['Age'].notnull()]['Age'])"
   ]
  },
  {
   "cell_type": "code",
   "execution_count": 38,
   "metadata": {},
   "outputs": [
    {
     "data": {
      "text/plain": [
       "0"
      ]
     },
     "execution_count": 38,
     "metadata": {},
     "output_type": "execute_result"
    }
   ],
   "source": [
    "df['Age'] = df['Age'].fillna(df['Age'].mean())\n",
    "df['Age'].isnull().sum()"
   ]
  },
  {
   "cell_type": "code",
   "execution_count": 39,
   "metadata": {},
   "outputs": [
    {
     "data": {
      "text/html": [
       "<div>\n",
       "<style scoped>\n",
       "    .dataframe tbody tr th:only-of-type {\n",
       "        vertical-align: middle;\n",
       "    }\n",
       "\n",
       "    .dataframe tbody tr th {\n",
       "        vertical-align: top;\n",
       "    }\n",
       "\n",
       "    .dataframe thead th {\n",
       "        text-align: right;\n",
       "    }\n",
       "</style>\n",
       "<table border=\"1\" class=\"dataframe\">\n",
       "  <thead>\n",
       "    <tr style=\"text-align: right;\">\n",
       "      <th></th>\n",
       "      <th>Survived</th>\n",
       "      <th>Pclass</th>\n",
       "      <th>Sex</th>\n",
       "      <th>Age</th>\n",
       "      <th>SibSp</th>\n",
       "      <th>Parch</th>\n",
       "      <th>Fare</th>\n",
       "      <th>Embarked</th>\n",
       "    </tr>\n",
       "    <tr>\n",
       "      <th>PassengerId</th>\n",
       "      <th></th>\n",
       "      <th></th>\n",
       "      <th></th>\n",
       "      <th></th>\n",
       "      <th></th>\n",
       "      <th></th>\n",
       "      <th></th>\n",
       "      <th></th>\n",
       "    </tr>\n",
       "  </thead>\n",
       "  <tbody>\n",
       "    <tr>\n",
       "      <th>1</th>\n",
       "      <td>0</td>\n",
       "      <td>3</td>\n",
       "      <td>1</td>\n",
       "      <td>22.0</td>\n",
       "      <td>1</td>\n",
       "      <td>0</td>\n",
       "      <td>7.2500</td>\n",
       "      <td>0</td>\n",
       "    </tr>\n",
       "    <tr>\n",
       "      <th>2</th>\n",
       "      <td>1</td>\n",
       "      <td>1</td>\n",
       "      <td>0</td>\n",
       "      <td>38.0</td>\n",
       "      <td>1</td>\n",
       "      <td>0</td>\n",
       "      <td>71.2833</td>\n",
       "      <td>1</td>\n",
       "    </tr>\n",
       "    <tr>\n",
       "      <th>3</th>\n",
       "      <td>1</td>\n",
       "      <td>3</td>\n",
       "      <td>0</td>\n",
       "      <td>26.0</td>\n",
       "      <td>0</td>\n",
       "      <td>0</td>\n",
       "      <td>7.9250</td>\n",
       "      <td>0</td>\n",
       "    </tr>\n",
       "    <tr>\n",
       "      <th>4</th>\n",
       "      <td>1</td>\n",
       "      <td>1</td>\n",
       "      <td>0</td>\n",
       "      <td>35.0</td>\n",
       "      <td>1</td>\n",
       "      <td>0</td>\n",
       "      <td>53.1000</td>\n",
       "      <td>0</td>\n",
       "    </tr>\n",
       "    <tr>\n",
       "      <th>5</th>\n",
       "      <td>0</td>\n",
       "      <td>3</td>\n",
       "      <td>1</td>\n",
       "      <td>35.0</td>\n",
       "      <td>0</td>\n",
       "      <td>0</td>\n",
       "      <td>8.0500</td>\n",
       "      <td>0</td>\n",
       "    </tr>\n",
       "  </tbody>\n",
       "</table>\n",
       "</div>"
      ],
      "text/plain": [
       "             Survived  Pclass  Sex   Age  SibSp  Parch     Fare  Embarked\n",
       "PassengerId                                                              \n",
       "1                   0       3    1  22.0      1      0   7.2500         0\n",
       "2                   1       1    0  38.0      1      0  71.2833         1\n",
       "3                   1       3    0  26.0      0      0   7.9250         0\n",
       "4                   1       1    0  35.0      1      0  53.1000         0\n",
       "5                   0       3    1  35.0      0      0   8.0500         0"
      ]
     },
     "execution_count": 39,
     "metadata": {},
     "output_type": "execute_result"
    }
   ],
   "source": [
    "df.head()"
   ]
  },
  {
   "cell_type": "markdown",
   "metadata": {},
   "source": [
    "### 训练模型"
   ]
  },
  {
   "cell_type": "code",
   "execution_count": 40,
   "metadata": {},
   "outputs": [],
   "source": [
    "from sklearn.model_selection import train_test_split\n",
    "X = df.iloc[:, 1:]\n",
    "y = df['Survived']\n",
    "\n",
    "X_train, X_test, y_train, y_test = train_test_split(X, y, test_size=0.2, random_state=22)"
   ]
  },
  {
   "cell_type": "code",
   "execution_count": 41,
   "metadata": {},
   "outputs": [],
   "source": [
    "from sklearn.tree import DecisionTreeClassifier"
   ]
  },
  {
   "cell_type": "markdown",
   "metadata": {},
   "source": [
    "决策树算法使用sklearn.tree模块中的DecisionTreeClassifier方法；\n",
    "\n",
    "该方法有一系列参数来控制决策树生成过程，从而解决过拟合问题（具体可看sklearn的官方文档）；\n",
    "\n",
    "常用的参数如下：\n",
    "\n",
    "criterion：算法选择。一种是信息熵（entropy），一种是基尼系数（gini），默认为gini。\n",
    "\n",
    "max_depth：指定数的最大深度。\n",
    "\n",
    "min_samples_split：默认为2，指定能创建分支的数据集大小。\n",
    "\n",
    "min_impurity_decrease：指定信息增益的阈值。\n"
   ]
  },
  {
   "cell_type": "code",
   "execution_count": 42,
   "metadata": {},
   "outputs": [
    {
     "data": {
      "text/plain": [
       "DecisionTreeClassifier(class_weight=None, criterion='gini', max_depth=None,\n",
       "            max_features=None, max_leaf_nodes=None,\n",
       "            min_impurity_decrease=0.0, min_impurity_split=None,\n",
       "            min_samples_leaf=1, min_samples_split=2,\n",
       "            min_weight_fraction_leaf=0.0, presort=False, random_state=None,\n",
       "            splitter='best')"
      ]
     },
     "execution_count": 42,
     "metadata": {},
     "output_type": "execute_result"
    }
   ],
   "source": [
    "clf = DecisionTreeClassifier()\n",
    "clf.fit(X_train, y_train)"
   ]
  },
  {
   "cell_type": "code",
   "execution_count": 43,
   "metadata": {},
   "outputs": [
    {
     "data": {
      "text/plain": [
       "0.8268156424581006"
      ]
     },
     "execution_count": 43,
     "metadata": {},
     "output_type": "execute_result"
    }
   ],
   "source": [
    "clf.score(X_test, y_test)"
   ]
  },
  {
   "cell_type": "markdown",
   "metadata": {},
   "source": [
    "### 交叉验证"
   ]
  },
  {
   "cell_type": "code",
   "execution_count": 46,
   "metadata": {},
   "outputs": [
    {
     "name": "stdout",
     "output_type": "stream",
     "text": [
      "0.7869501191692203\n"
     ]
    }
   ],
   "source": [
    "from sklearn.model_selection import cross_val_score\n",
    "\n",
    "result = cross_val_score(clf, X, y, cv=10)\n",
    "#10折交叉验证\n",
    "print(result.mean())"
   ]
  },
  {
   "cell_type": "markdown",
   "metadata": {},
   "source": [
    "### 优化参数"
   ]
  },
  {
   "cell_type": "code",
   "execution_count": 45,
   "metadata": {},
   "outputs": [
    {
     "name": "stdout",
     "output_type": "stream",
     "text": [
      "best param: 13; best score: 0.8324022346368715\n"
     ]
    },
    {
     "data": {
      "text/plain": [
       "<matplotlib.legend.Legend at 0x1a20be8a90>"
      ]
     },
     "execution_count": 45,
     "metadata": {},
     "output_type": "execute_result"
    },
    {
     "data": {
      "image/png": "[encoded data removed]",
      "text/plain": [
       "<Figure size 1440x864 with 1 Axes>"
      ]
     },
     "metadata": {},
     "output_type": "display_data"
    }
   ],
   "source": [
    "def cv_score(d):\n",
    "    clf = DecisionTreeClassifier(max_depth=d)\n",
    "    clf.fit(X_train, y_train)\n",
    "    tr_score = clf.score(X_train, y_train)\n",
    "    cv_score = clf.score(X_test, y_test)\n",
    "    return (tr_score, cv_score)\n",
    "\n",
    "depths = range(2, 15)\n",
    "scores = [cv_score(d) for d in depths]\n",
    "tr_scores = [s[0] for s in scores]\n",
    "cv_scores = [s[1] for s in scores]\n",
    "\n",
    "best_score_index = np.argmax(cv_scores)\n",
    "best_score = cv_scores[best_score_index]\n",
    "best_param = depths[best_score_index]\n",
    "print('best param: {0}; best score: {1}'.format(best_param, best_score))\n",
    "\n",
    "plt.figure(figsize=(10, 6), dpi=144)\n",
    "plt.grid()\n",
    "plt.xlabel('max depth of decision tree')\n",
    "plt.ylabel('score')\n",
    "plt.plot(depths, cv_scores, '.g-', label='cross-validation score')\n",
    "plt.plot(depths, tr_scores, '.r--', label='training score')\n",
    "plt.legend()"
   ]
  },
  {
   "cell_type": "markdown",
   "metadata": {},
   "source": [
    "### gridsearchcv"
   ]
  },
  {
   "cell_type": "code",
   "execution_count": 60,
   "metadata": {},
   "outputs": [
    {
     "data": {
      "text/plain": [
       "GridSearchCV(cv=10, error_score='raise-deprecating',\n",
       "       estimator=DecisionTreeClassifier(class_weight=None, criterion='gini', max_depth=None,\n",
       "            max_features=None, max_leaf_nodes=None,\n",
       "            min_impurity_decrease=0.0, min_impurity_split=None,\n",
       "            min_samples_leaf=1, min_samples_split=2,\n",
       "            min_weight_fraction_leaf=0.0, presort=False, random_state=None,\n",
       "            splitter='best'),\n",
       "       fit_params=None, iid='warn', n_jobs=None,\n",
       "       param_grid={'min_impurity_decrease': array([0.     , 0.0102 , 0.02041, 0.03061, 0.04082, 0.05102, 0.06122,\n",
       "       0.07143, 0.08163, 0.09184, 0.10204, 0.11224, 0.12245, 0.13265,\n",
       "       0.14286, 0.15306, 0.16327, 0.17347, 0.18367, 0.19388, 0.20408,\n",
       "       0.21429, 0.22449, 0.23469, 0.2449 , 0.2551 , 0...16, 0.41837,\n",
       "       0.42857, 0.43878, 0.44898, 0.45918, 0.46939, 0.47959, 0.4898 ,\n",
       "       0.5    ])},\n",
       "       pre_dispatch='2*n_jobs', refit=True, return_train_score='warn',\n",
       "       scoring=None, verbose=0)"
      ]
     },
     "execution_count": 60,
     "metadata": {},
     "output_type": "execute_result"
    }
   ],
   "source": [
    "from sklearn.model_selection import GridSearchCV\n",
    "threshholds = np.linspace(0, 0.5, 50)\n",
    "param_grid = {'min_impurity_decrease':threshholds}\n",
    "\n",
    "clf = GridSearchCV(DecisionTreeClassifier(), param_grid, cv=10)\n",
    "clf.fit(X, y)"
   ]
  },
  {
   "cell_type": "code",
   "execution_count": 61,
   "metadata": {},
   "outputs": [
    {
     "name": "stdout",
     "output_type": "stream",
     "text": [
      "best param: {'min_impurity_decrease': 0.01020408163265306}\n",
      "best score: 0.8125701459034792\n"
     ]
    }
   ],
   "source": [
    "print(\"best param: {0}\\nbest score: {1}\".format(clf.best_params_, \n",
    "                                                clf.best_score_))"
   ]
  },
  {
   "cell_type": "code",
   "execution_count": 62,
   "metadata": {},
   "outputs": [
    {
     "name": "stdout",
     "output_type": "stream",
     "text": [
      "{'mean_fit_time': array([0.00561366, 0.00392878, 0.00383911, 0.00285981, 0.00265765,\n",
      "       0.00269108, 0.00290027, 0.00284519, 0.00277655, 0.0026798 ,\n",
      "       0.0028733 , 0.00294547, 0.00309939, 0.00307322, 0.00290251,\n",
      "       0.00319707, 0.00305812, 0.0038125 , 0.00372851, 0.00390682,\n",
      "       0.00347614, 0.00322065, 0.00297675, 0.00286915, 0.00261254,\n",
      "       0.00270326, 0.00273139, 0.00329261, 0.00314138, 0.00334961,\n",
      "       0.0035753 , 0.00290723, 0.00290797, 0.00282943, 0.00262356,\n",
      "       0.00254791, 0.00281489, 0.00294685, 0.00258446, 0.00265002,\n",
      "       0.00293684, 0.00257118, 0.00275152, 0.00255284, 0.00292768,\n",
      "       0.00271549, 0.00284784, 0.00309315, 0.00278103, 0.00275733]), 'std_fit_time': array([1.67681325e-03, 7.02186935e-04, 2.11896887e-03, 2.85959316e-04,\n",
      "       3.86065869e-05, 4.09163793e-05, 3.83690497e-04, 3.38029727e-04,\n",
      "       2.13067844e-04, 3.84742068e-05, 3.70418253e-04, 3.67536508e-04,\n",
      "       3.86998623e-04, 4.15791598e-04, 3.63306953e-04, 5.76459850e-04,\n",
      "       4.00024658e-04, 9.42389592e-04, 7.51342388e-04, 8.32951892e-04,\n",
      "       6.43613584e-04, 3.42704995e-04, 4.32517801e-04, 3.53391598e-04,\n",
      "       1.32503935e-04, 2.46635442e-04, 2.15599933e-04, 4.56363526e-04,\n",
      "       3.86071102e-04, 6.51777224e-04, 4.70843790e-04, 4.16644524e-04,\n",
      "       3.31240046e-04, 3.39666144e-04, 1.94691420e-04, 2.01276828e-05,\n",
      "       5.16793664e-04, 3.74574876e-04, 7.48900044e-05, 1.85792150e-04,\n",
      "       4.04570351e-04, 4.19230514e-05, 2.68291423e-04, 4.30695360e-05,\n",
      "       3.85915454e-04, 2.89113573e-04, 4.77352544e-04, 3.63549765e-04,\n",
      "       3.14640128e-04, 3.43329599e-04]), 'mean_score_time': array([0.00211365, 0.00193183, 0.00184722, 0.00139823, 0.00131698,\n",
      "       0.00130198, 0.00139403, 0.00136967, 0.00132167, 0.00128183,\n",
      "       0.00140834, 0.00138655, 0.00145028, 0.00148466, 0.00137088,\n",
      "       0.00164421, 0.00180328, 0.00193892, 0.00158303, 0.00157511,\n",
      "       0.00173032, 0.00144844, 0.00147026, 0.00140295, 0.00131836,\n",
      "       0.00136175, 0.00139668, 0.00161335, 0.00165393, 0.00157568,\n",
      "       0.00165255, 0.00139983, 0.00136883, 0.00137899, 0.00130775,\n",
      "       0.00129099, 0.00136964, 0.0015542 , 0.00136116, 0.00130799,\n",
      "       0.00139587, 0.00126872, 0.0013922 , 0.00127344, 0.00145326,\n",
      "       0.00135357, 0.0013478 , 0.00146685, 0.00134692, 0.00133412]), 'std_score_time': array([5.63970922e-04, 4.82734712e-04, 8.69288975e-04, 2.15906189e-04,\n",
      "       3.76048609e-05, 7.79614499e-05, 1.49771394e-04, 1.64923105e-04,\n",
      "       1.37945135e-04, 2.39183154e-05, 1.65684034e-04, 1.57659239e-04,\n",
      "       1.62567538e-04, 2.38088557e-04, 1.12716198e-04, 2.19634038e-04,\n",
      "       4.81972723e-04, 3.14857226e-04, 2.17640490e-04, 3.37055462e-04,\n",
      "       5.45163726e-04, 1.73130563e-04, 1.82032579e-04, 1.84631637e-04,\n",
      "       6.20092945e-05, 1.82439112e-04, 2.04073559e-04, 2.57273211e-04,\n",
      "       3.74610331e-04, 2.46724929e-04, 2.59747102e-04, 1.33322640e-04,\n",
      "       1.25245664e-04, 1.70715809e-04, 9.03602923e-05, 3.02456874e-05,\n",
      "       1.85148447e-04, 2.54840506e-04, 1.84896627e-04, 9.06506473e-05,\n",
      "       1.64197304e-04, 8.22195034e-06, 1.82747804e-04, 2.24710744e-05,\n",
      "       1.88595191e-04, 1.70413490e-04, 1.58515599e-04, 1.90647499e-04,\n",
      "       9.24827604e-05, 1.25055581e-04]), 'param_min_impurity_decrease': masked_array(data=[0.0, 0.01020408163265306, 0.02040816326530612,\n",
      "                   0.030612244897959183, 0.04081632653061224,\n",
      "                   0.0510204081632653, 0.061224489795918366,\n",
      "                   0.07142857142857142, 0.08163265306122448,\n",
      "                   0.09183673469387754, 0.1020408163265306,\n",
      "                   0.11224489795918366, 0.12244897959183673,\n",
      "                   0.13265306122448978, 0.14285714285714285,\n",
      "                   0.1530612244897959, 0.16326530612244897,\n",
      "                   0.17346938775510204, 0.18367346938775508,\n",
      "                   0.19387755102040816, 0.2040816326530612,\n",
      "                   0.21428571428571427, 0.22448979591836732,\n",
      "                   0.2346938775510204, 0.24489795918367346,\n",
      "                   0.25510204081632654, 0.26530612244897955,\n",
      "                   0.2755102040816326, 0.2857142857142857,\n",
      "                   0.29591836734693877, 0.3061224489795918,\n",
      "                   0.31632653061224486, 0.32653061224489793,\n",
      "                   0.336734693877551, 0.3469387755102041,\n",
      "                   0.3571428571428571, 0.36734693877551017,\n",
      "                   0.37755102040816324, 0.3877551020408163,\n",
      "                   0.39795918367346933, 0.4081632653061224,\n",
      "                   0.4183673469387755, 0.42857142857142855,\n",
      "                   0.4387755102040816, 0.44897959183673464,\n",
      "                   0.4591836734693877, 0.4693877551020408,\n",
      "                   0.47959183673469385, 0.4897959183673469, 0.5],\n",
      "             mask=[False, False, False, False, False, False, False, False,\n",
      "                   False, False, False, False, False, False, False, False,\n",
      "                   False, False, False, False, False, False, False, False,\n",
      "                   False, False, False, False, False, False, False, False,\n",
      "                   False, False, False, False, False, False, False, False,\n",
      "                   False, False, False, False, False, False, False, False,\n",
      "                   False, False],\n",
      "       fill_value='?',\n",
      "            dtype=object), 'params': [{'min_impurity_decrease': 0.0}, {'min_impurity_decrease': 0.01020408163265306}, {'min_impurity_decrease': 0.02040816326530612}, {'min_impurity_decrease': 0.030612244897959183}, {'min_impurity_decrease': 0.04081632653061224}, {'min_impurity_decrease': 0.0510204081632653}, {'min_impurity_decrease': 0.061224489795918366}, {'min_impurity_decrease': 0.07142857142857142}, {'min_impurity_decrease': 0.08163265306122448}, {'min_impurity_decrease': 0.09183673469387754}, {'min_impurity_decrease': 0.1020408163265306}, {'min_impurity_decrease': 0.11224489795918366}, {'min_impurity_decrease': 0.12244897959183673}, {'min_impurity_decrease': 0.13265306122448978}, {'min_impurity_decrease': 0.14285714285714285}, {'min_impurity_decrease': 0.1530612244897959}, {'min_impurity_decrease': 0.16326530612244897}, {'min_impurity_decrease': 0.17346938775510204}, {'min_impurity_decrease': 0.18367346938775508}, {'min_impurity_decrease': 0.19387755102040816}, {'min_impurity_decrease': 0.2040816326530612}, {'min_impurity_decrease': 0.21428571428571427}, {'min_impurity_decrease': 0.22448979591836732}, {'min_impurity_decrease': 0.2346938775510204}, {'min_impurity_decrease': 0.24489795918367346}, {'min_impurity_decrease': 0.25510204081632654}, {'min_impurity_decrease': 0.26530612244897955}, {'min_impurity_decrease': 0.2755102040816326}, {'min_impurity_decrease': 0.2857142857142857}, {'min_impurity_decrease': 0.29591836734693877}, {'min_impurity_decrease': 0.3061224489795918}, {'min_impurity_decrease': 0.31632653061224486}, {'min_impurity_decrease': 0.32653061224489793}, {'min_impurity_decrease': 0.336734693877551}, {'min_impurity_decrease': 0.3469387755102041}, {'min_impurity_decrease': 0.3571428571428571}, {'min_impurity_decrease': 0.36734693877551017}, {'min_impurity_decrease': 0.37755102040816324}, {'min_impurity_decrease': 0.3877551020408163}, {'min_impurity_decrease': 0.39795918367346933}, {'min_impurity_decrease': 0.4081632653061224}, {'min_impurity_decrease': 0.4183673469387755}, {'min_impurity_decrease': 0.42857142857142855}, {'min_impurity_decrease': 0.4387755102040816}, {'min_impurity_decrease': 0.44897959183673464}, {'min_impurity_decrease': 0.4591836734693877}, {'min_impurity_decrease': 0.4693877551020408}, {'min_impurity_decrease': 0.47959183673469385}, {'min_impurity_decrease': 0.4897959183673469}, {'min_impurity_decrease': 0.5}], 'split0_test_score': array([0.75555556, 0.82222222, 0.74444444, 0.74444444, 0.81111111,\n",
      "       0.81111111, 0.81111111, 0.81111111, 0.81111111, 0.81111111,\n",
      "       0.81111111, 0.81111111, 0.81111111, 0.81111111, 0.61111111,\n",
      "       0.61111111, 0.61111111, 0.61111111, 0.61111111, 0.61111111,\n",
      "       0.61111111, 0.61111111, 0.61111111, 0.61111111, 0.61111111,\n",
      "       0.61111111, 0.61111111, 0.61111111, 0.61111111, 0.61111111,\n",
      "       0.61111111, 0.61111111, 0.61111111, 0.61111111, 0.61111111,\n",
      "       0.61111111, 0.61111111, 0.61111111, 0.61111111, 0.61111111,\n",
      "       0.61111111, 0.61111111, 0.61111111, 0.61111111, 0.61111111,\n",
      "       0.61111111, 0.61111111, 0.61111111, 0.61111111, 0.61111111]), 'split1_test_score': array([0.76666667, 0.83333333, 0.74444444, 0.74444444, 0.78888889,\n",
      "       0.78888889, 0.78888889, 0.78888889, 0.78888889, 0.78888889,\n",
      "       0.78888889, 0.78888889, 0.78888889, 0.78888889, 0.61111111,\n",
      "       0.61111111, 0.61111111, 0.61111111, 0.61111111, 0.61111111,\n",
      "       0.61111111, 0.61111111, 0.61111111, 0.61111111, 0.61111111,\n",
      "       0.61111111, 0.61111111, 0.61111111, 0.61111111, 0.61111111,\n",
      "       0.61111111, 0.61111111, 0.61111111, 0.61111111, 0.61111111,\n",
      "       0.61111111, 0.61111111, 0.61111111, 0.61111111, 0.61111111,\n",
      "       0.61111111, 0.61111111, 0.61111111, 0.61111111, 0.61111111,\n",
      "       0.61111111, 0.61111111, 0.61111111, 0.61111111, 0.61111111]), 'split2_test_score': array([0.71910112, 0.78651685, 0.75280899, 0.75280899, 0.7752809 ,\n",
      "       0.7752809 , 0.7752809 , 0.7752809 , 0.7752809 , 0.7752809 ,\n",
      "       0.7752809 , 0.7752809 , 0.7752809 , 0.7752809 , 0.61797753,\n",
      "       0.61797753, 0.61797753, 0.61797753, 0.61797753, 0.61797753,\n",
      "       0.61797753, 0.61797753, 0.61797753, 0.61797753, 0.61797753,\n",
      "       0.61797753, 0.61797753, 0.61797753, 0.61797753, 0.61797753,\n",
      "       0.61797753, 0.61797753, 0.61797753, 0.61797753, 0.61797753,\n",
      "       0.61797753, 0.61797753, 0.61797753, 0.61797753, 0.61797753,\n",
      "       0.61797753, 0.61797753, 0.61797753, 0.61797753, 0.61797753,\n",
      "       0.61797753, 0.61797753, 0.61797753, 0.61797753, 0.61797753]), 'split3_test_score': array([0.7752809 , 0.85393258, 0.84269663, 0.84269663, 0.84269663,\n",
      "       0.84269663, 0.84269663, 0.84269663, 0.84269663, 0.84269663,\n",
      "       0.84269663, 0.84269663, 0.84269663, 0.61797753, 0.61797753,\n",
      "       0.61797753, 0.61797753, 0.61797753, 0.61797753, 0.61797753,\n",
      "       0.61797753, 0.61797753, 0.61797753, 0.61797753, 0.61797753,\n",
      "       0.61797753, 0.61797753, 0.61797753, 0.61797753, 0.61797753,\n",
      "       0.61797753, 0.61797753, 0.61797753, 0.61797753, 0.61797753,\n",
      "       0.61797753, 0.61797753, 0.61797753, 0.61797753, 0.61797753,\n",
      "       0.61797753, 0.61797753, 0.61797753, 0.61797753, 0.61797753,\n",
      "       0.61797753, 0.61797753, 0.61797753, 0.61797753, 0.61797753]), 'split4_test_score': array([0.80898876, 0.83146067, 0.79775281, 0.79775281, 0.79775281,\n",
      "       0.79775281, 0.79775281, 0.79775281, 0.79775281, 0.79775281,\n",
      "       0.79775281, 0.79775281, 0.79775281, 0.79775281, 0.61797753,\n",
      "       0.61797753, 0.61797753, 0.61797753, 0.61797753, 0.61797753,\n",
      "       0.61797753, 0.61797753, 0.61797753, 0.61797753, 0.61797753,\n",
      "       0.61797753, 0.61797753, 0.61797753, 0.61797753, 0.61797753,\n",
      "       0.61797753, 0.61797753, 0.61797753, 0.61797753, 0.61797753,\n",
      "       0.61797753, 0.61797753, 0.61797753, 0.61797753, 0.61797753,\n",
      "       0.61797753, 0.61797753, 0.61797753, 0.61797753, 0.61797753,\n",
      "       0.61797753, 0.61797753, 0.61797753, 0.61797753, 0.61797753]), 'split5_test_score': array([0.75280899, 0.78651685, 0.7752809 , 0.7752809 , 0.7752809 ,\n",
      "       0.7752809 , 0.7752809 , 0.7752809 , 0.7752809 , 0.7752809 ,\n",
      "       0.7752809 , 0.7752809 , 0.7752809 , 0.7752809 , 0.61797753,\n",
      "       0.61797753, 0.61797753, 0.61797753, 0.61797753, 0.61797753,\n",
      "       0.61797753, 0.61797753, 0.61797753, 0.61797753, 0.61797753,\n",
      "       0.61797753, 0.61797753, 0.61797753, 0.61797753, 0.61797753,\n",
      "       0.61797753, 0.61797753, 0.61797753, 0.61797753, 0.61797753,\n",
      "       0.61797753, 0.61797753, 0.61797753, 0.61797753, 0.61797753,\n",
      "       0.61797753, 0.61797753, 0.61797753, 0.61797753, 0.61797753,\n",
      "       0.61797753, 0.61797753, 0.61797753, 0.61797753, 0.61797753]), 'split6_test_score': array([0.84269663, 0.79775281, 0.76404494, 0.76404494, 0.76404494,\n",
      "       0.76404494, 0.76404494, 0.76404494, 0.76404494, 0.76404494,\n",
      "       0.76404494, 0.76404494, 0.76404494, 0.76404494, 0.61797753,\n",
      "       0.61797753, 0.61797753, 0.61797753, 0.61797753, 0.61797753,\n",
      "       0.61797753, 0.61797753, 0.61797753, 0.61797753, 0.61797753,\n",
      "       0.61797753, 0.61797753, 0.61797753, 0.61797753, 0.61797753,\n",
      "       0.61797753, 0.61797753, 0.61797753, 0.61797753, 0.61797753,\n",
      "       0.61797753, 0.61797753, 0.61797753, 0.61797753, 0.61797753,\n",
      "       0.61797753, 0.61797753, 0.61797753, 0.61797753, 0.61797753,\n",
      "       0.61797753, 0.61797753, 0.61797753, 0.61797753, 0.61797753]), 'split7_test_score': array([0.76404494, 0.74157303, 0.74157303, 0.74157303, 0.74157303,\n",
      "       0.74157303, 0.74157303, 0.74157303, 0.74157303, 0.74157303,\n",
      "       0.74157303, 0.74157303, 0.74157303, 0.74157303, 0.74157303,\n",
      "       0.61797753, 0.61797753, 0.61797753, 0.61797753, 0.61797753,\n",
      "       0.61797753, 0.61797753, 0.61797753, 0.61797753, 0.61797753,\n",
      "       0.61797753, 0.61797753, 0.61797753, 0.61797753, 0.61797753,\n",
      "       0.61797753, 0.61797753, 0.61797753, 0.61797753, 0.61797753,\n",
      "       0.61797753, 0.61797753, 0.61797753, 0.61797753, 0.61797753,\n",
      "       0.61797753, 0.61797753, 0.61797753, 0.61797753, 0.61797753,\n",
      "       0.61797753, 0.61797753, 0.61797753, 0.61797753, 0.61797753]), 'split8_test_score': array([0.83146067, 0.86516854, 0.80898876, 0.80898876, 0.80898876,\n",
      "       0.80898876, 0.80898876, 0.80898876, 0.80898876, 0.80898876,\n",
      "       0.80898876, 0.80898876, 0.80898876, 0.80898876, 0.61797753,\n",
      "       0.61797753, 0.61797753, 0.61797753, 0.61797753, 0.61797753,\n",
      "       0.61797753, 0.61797753, 0.61797753, 0.61797753, 0.61797753,\n",
      "       0.61797753, 0.61797753, 0.61797753, 0.61797753, 0.61797753,\n",
      "       0.61797753, 0.61797753, 0.61797753, 0.61797753, 0.61797753,\n",
      "       0.61797753, 0.61797753, 0.61797753, 0.61797753, 0.61797753,\n",
      "       0.61797753, 0.61797753, 0.61797753, 0.61797753, 0.61797753,\n",
      "       0.61797753, 0.61797753, 0.61797753, 0.61797753, 0.61797753]), 'split9_test_score': array([0.84090909, 0.80681818, 0.76136364, 0.76136364, 0.76136364,\n",
      "       0.76136364, 0.76136364, 0.76136364, 0.76136364, 0.76136364,\n",
      "       0.76136364, 0.76136364, 0.76136364, 0.76136364, 0.61363636,\n",
      "       0.61363636, 0.61363636, 0.61363636, 0.61363636, 0.61363636,\n",
      "       0.61363636, 0.61363636, 0.61363636, 0.61363636, 0.61363636,\n",
      "       0.61363636, 0.61363636, 0.61363636, 0.61363636, 0.61363636,\n",
      "       0.61363636, 0.61363636, 0.61363636, 0.61363636, 0.61363636,\n",
      "       0.61363636, 0.61363636, 0.61363636, 0.61363636, 0.61363636,\n",
      "       0.61363636, 0.61363636, 0.61363636, 0.61363636, 0.61363636,\n",
      "       0.61363636, 0.61363636, 0.61363636, 0.61363636, 0.61363636]), 'mean_test_score': array([0.78563412, 0.81257015, 0.77328844, 0.77328844, 0.78675645,\n",
      "       0.78675645, 0.78675645, 0.78675645, 0.78675645, 0.78675645,\n",
      "       0.78675645, 0.78675645, 0.78675645, 0.76430976, 0.6285073 ,\n",
      "       0.61616162, 0.61616162, 0.61616162, 0.61616162, 0.61616162,\n",
      "       0.61616162, 0.61616162, 0.61616162, 0.61616162, 0.61616162,\n",
      "       0.61616162, 0.61616162, 0.61616162, 0.61616162, 0.61616162,\n",
      "       0.61616162, 0.61616162, 0.61616162, 0.61616162, 0.61616162,\n",
      "       0.61616162, 0.61616162, 0.61616162, 0.61616162, 0.61616162,\n",
      "       0.61616162, 0.61616162, 0.61616162, 0.61616162, 0.61616162,\n",
      "       0.61616162, 0.61616162, 0.61616162, 0.61616162, 0.61616162]), 'std_test_score': array([0.04032427, 0.034643  , 0.03164996, 0.03164996, 0.02792567,\n",
      "       0.02792567, 0.02792567, 0.02792567, 0.02792567, 0.02792567,\n",
      "       0.02792567, 0.02792567, 0.02792567, 0.05299854, 0.03776745,\n",
      "       0.00284404, 0.00284404, 0.00284404, 0.00284404, 0.00284404,\n",
      "       0.00284404, 0.00284404, 0.00284404, 0.00284404, 0.00284404,\n",
      "       0.00284404, 0.00284404, 0.00284404, 0.00284404, 0.00284404,\n",
      "       0.00284404, 0.00284404, 0.00284404, 0.00284404, 0.00284404,\n",
      "       0.00284404, 0.00284404, 0.00284404, 0.00284404, 0.00284404,\n",
      "       0.00284404, 0.00284404, 0.00284404, 0.00284404, 0.00284404,\n",
      "       0.00284404, 0.00284404, 0.00284404, 0.00284404, 0.00284404]), 'rank_test_score': array([11,  1, 12, 12,  2,  2,  2,  2,  2,  2,  2,  2,  2, 14, 15, 16, 16,\n",
      "       16, 16, 16, 16, 16, 16, 16, 16, 16, 16, 16, 16, 16, 16, 16, 16, 16,\n",
      "       16, 16, 16, 16, 16, 16, 16, 16, 16, 16, 16, 16, 16, 16, 16, 16],\n",
      "      dtype=int32), 'split0_train_score': array([0.98252185, 0.83270911, 0.79151061, 0.79151061, 0.78401998,\n",
      "       0.78401998, 0.78401998, 0.78401998, 0.78401998, 0.78401998,\n",
      "       0.78401998, 0.78401998, 0.78401998, 0.78401998, 0.61672909,\n",
      "       0.61672909, 0.61672909, 0.61672909, 0.61672909, 0.61672909,\n",
      "       0.61672909, 0.61672909, 0.61672909, 0.61672909, 0.61672909,\n",
      "       0.61672909, 0.61672909, 0.61672909, 0.61672909, 0.61672909,\n",
      "       0.61672909, 0.61672909, 0.61672909, 0.61672909, 0.61672909,\n",
      "       0.61672909, 0.61672909, 0.61672909, 0.61672909, 0.61672909,\n",
      "       0.61672909, 0.61672909, 0.61672909, 0.61672909, 0.61672909,\n",
      "       0.61672909, 0.61672909, 0.61672909, 0.61672909, 0.61672909]), 'split1_train_score': array([0.98377029, 0.82147316, 0.79151061, 0.79151061, 0.78651685,\n",
      "       0.78651685, 0.78651685, 0.78651685, 0.78651685, 0.78651685,\n",
      "       0.78651685, 0.78651685, 0.78651685, 0.78651685, 0.61672909,\n",
      "       0.61672909, 0.61672909, 0.61672909, 0.61672909, 0.61672909,\n",
      "       0.61672909, 0.61672909, 0.61672909, 0.61672909, 0.61672909,\n",
      "       0.61672909, 0.61672909, 0.61672909, 0.61672909, 0.61672909,\n",
      "       0.61672909, 0.61672909, 0.61672909, 0.61672909, 0.61672909,\n",
      "       0.61672909, 0.61672909, 0.61672909, 0.61672909, 0.61672909,\n",
      "       0.61672909, 0.61672909, 0.61672909, 0.61672909, 0.61672909,\n",
      "       0.61672909, 0.61672909, 0.61672909, 0.61672909, 0.61672909]), 'split2_train_score': array([0.98753117, 0.83665835, 0.79052369, 0.79052369, 0.78802993,\n",
      "       0.78802993, 0.78802993, 0.78802993, 0.78802993, 0.78802993,\n",
      "       0.78802993, 0.78802993, 0.78802993, 0.78802993, 0.6159601 ,\n",
      "       0.6159601 , 0.6159601 , 0.6159601 , 0.6159601 , 0.6159601 ,\n",
      "       0.6159601 , 0.6159601 , 0.6159601 , 0.6159601 , 0.6159601 ,\n",
      "       0.6159601 , 0.6159601 , 0.6159601 , 0.6159601 , 0.6159601 ,\n",
      "       0.6159601 , 0.6159601 , 0.6159601 , 0.6159601 , 0.6159601 ,\n",
      "       0.6159601 , 0.6159601 , 0.6159601 , 0.6159601 , 0.6159601 ,\n",
      "       0.6159601 , 0.6159601 , 0.6159601 , 0.6159601 , 0.6159601 ,\n",
      "       0.6159601 , 0.6159601 , 0.6159601 , 0.6159601 , 0.6159601 ]), 'split3_train_score': array([0.98254364, 0.82418953, 0.78054863, 0.78054863, 0.78054863,\n",
      "       0.78054863, 0.78054863, 0.78054863, 0.78054863, 0.78054863,\n",
      "       0.78054863, 0.78054863, 0.78054863, 0.6159601 , 0.6159601 ,\n",
      "       0.6159601 , 0.6159601 , 0.6159601 , 0.6159601 , 0.6159601 ,\n",
      "       0.6159601 , 0.6159601 , 0.6159601 , 0.6159601 , 0.6159601 ,\n",
      "       0.6159601 , 0.6159601 , 0.6159601 , 0.6159601 , 0.6159601 ,\n",
      "       0.6159601 , 0.6159601 , 0.6159601 , 0.6159601 , 0.6159601 ,\n",
      "       0.6159601 , 0.6159601 , 0.6159601 , 0.6159601 , 0.6159601 ,\n",
      "       0.6159601 , 0.6159601 , 0.6159601 , 0.6159601 , 0.6159601 ,\n",
      "       0.6159601 , 0.6159601 , 0.6159601 , 0.6159601 , 0.6159601 ]), 'split4_train_score': array([0.98379052, 0.81795511, 0.78553616, 0.78553616, 0.78553616,\n",
      "       0.78553616, 0.78553616, 0.78553616, 0.78553616, 0.78553616,\n",
      "       0.78553616, 0.78553616, 0.78553616, 0.78553616, 0.6159601 ,\n",
      "       0.6159601 , 0.6159601 , 0.6159601 , 0.6159601 , 0.6159601 ,\n",
      "       0.6159601 , 0.6159601 , 0.6159601 , 0.6159601 , 0.6159601 ,\n",
      "       0.6159601 , 0.6159601 , 0.6159601 , 0.6159601 , 0.6159601 ,\n",
      "       0.6159601 , 0.6159601 , 0.6159601 , 0.6159601 , 0.6159601 ,\n",
      "       0.6159601 , 0.6159601 , 0.6159601 , 0.6159601 , 0.6159601 ,\n",
      "       0.6159601 , 0.6159601 , 0.6159601 , 0.6159601 , 0.6159601 ,\n",
      "       0.6159601 , 0.6159601 , 0.6159601 , 0.6159601 , 0.6159601 ]), 'split5_train_score': array([0.98379052, 0.82294264, 0.78802993, 0.78802993, 0.78802993,\n",
      "       0.78802993, 0.78802993, 0.78802993, 0.78802993, 0.78802993,\n",
      "       0.78802993, 0.78802993, 0.78802993, 0.78802993, 0.6159601 ,\n",
      "       0.6159601 , 0.6159601 , 0.6159601 , 0.6159601 , 0.6159601 ,\n",
      "       0.6159601 , 0.6159601 , 0.6159601 , 0.6159601 , 0.6159601 ,\n",
      "       0.6159601 , 0.6159601 , 0.6159601 , 0.6159601 , 0.6159601 ,\n",
      "       0.6159601 , 0.6159601 , 0.6159601 , 0.6159601 , 0.6159601 ,\n",
      "       0.6159601 , 0.6159601 , 0.6159601 , 0.6159601 , 0.6159601 ,\n",
      "       0.6159601 , 0.6159601 , 0.6159601 , 0.6159601 , 0.6159601 ,\n",
      "       0.6159601 , 0.6159601 , 0.6159601 , 0.6159601 , 0.6159601 ]), 'split6_train_score': array([0.98254364, 0.83042394, 0.78927681, 0.78927681, 0.78927681,\n",
      "       0.78927681, 0.78927681, 0.78927681, 0.78927681, 0.78927681,\n",
      "       0.78927681, 0.78927681, 0.78927681, 0.78927681, 0.6159601 ,\n",
      "       0.6159601 , 0.6159601 , 0.6159601 , 0.6159601 , 0.6159601 ,\n",
      "       0.6159601 , 0.6159601 , 0.6159601 , 0.6159601 , 0.6159601 ,\n",
      "       0.6159601 , 0.6159601 , 0.6159601 , 0.6159601 , 0.6159601 ,\n",
      "       0.6159601 , 0.6159601 , 0.6159601 , 0.6159601 , 0.6159601 ,\n",
      "       0.6159601 , 0.6159601 , 0.6159601 , 0.6159601 , 0.6159601 ,\n",
      "       0.6159601 , 0.6159601 , 0.6159601 , 0.6159601 , 0.6159601 ,\n",
      "       0.6159601 , 0.6159601 , 0.6159601 , 0.6159601 , 0.6159601 ]), 'split7_train_score': array([0.98379052, 0.81546135, 0.79177057, 0.79177057, 0.79177057,\n",
      "       0.79177057, 0.79177057, 0.79177057, 0.79177057, 0.79177057,\n",
      "       0.79177057, 0.79177057, 0.79177057, 0.79177057, 0.79177057,\n",
      "       0.6159601 , 0.6159601 , 0.6159601 , 0.6159601 , 0.6159601 ,\n",
      "       0.6159601 , 0.6159601 , 0.6159601 , 0.6159601 , 0.6159601 ,\n",
      "       0.6159601 , 0.6159601 , 0.6159601 , 0.6159601 , 0.6159601 ,\n",
      "       0.6159601 , 0.6159601 , 0.6159601 , 0.6159601 , 0.6159601 ,\n",
      "       0.6159601 , 0.6159601 , 0.6159601 , 0.6159601 , 0.6159601 ,\n",
      "       0.6159601 , 0.6159601 , 0.6159601 , 0.6159601 , 0.6159601 ,\n",
      "       0.6159601 , 0.6159601 , 0.6159601 , 0.6159601 , 0.6159601 ]), 'split8_train_score': array([0.98129676, 0.82793017, 0.78428928, 0.78428928, 0.78428928,\n",
      "       0.78428928, 0.78428928, 0.78428928, 0.78428928, 0.78428928,\n",
      "       0.78428928, 0.78428928, 0.78428928, 0.78428928, 0.6159601 ,\n",
      "       0.6159601 , 0.6159601 , 0.6159601 , 0.6159601 , 0.6159601 ,\n",
      "       0.6159601 , 0.6159601 , 0.6159601 , 0.6159601 , 0.6159601 ,\n",
      "       0.6159601 , 0.6159601 , 0.6159601 , 0.6159601 , 0.6159601 ,\n",
      "       0.6159601 , 0.6159601 , 0.6159601 , 0.6159601 , 0.6159601 ,\n",
      "       0.6159601 , 0.6159601 , 0.6159601 , 0.6159601 , 0.6159601 ,\n",
      "       0.6159601 , 0.6159601 , 0.6159601 , 0.6159601 , 0.6159601 ,\n",
      "       0.6159601 , 0.6159601 , 0.6159601 , 0.6159601 , 0.6159601 ]), 'split9_train_score': array([0.98256538, 0.80448319, 0.78953923, 0.78953923, 0.78953923,\n",
      "       0.78953923, 0.78953923, 0.78953923, 0.78953923, 0.78953923,\n",
      "       0.78953923, 0.78953923, 0.78953923, 0.78953923, 0.61643836,\n",
      "       0.61643836, 0.61643836, 0.61643836, 0.61643836, 0.61643836,\n",
      "       0.61643836, 0.61643836, 0.61643836, 0.61643836, 0.61643836,\n",
      "       0.61643836, 0.61643836, 0.61643836, 0.61643836, 0.61643836,\n",
      "       0.61643836, 0.61643836, 0.61643836, 0.61643836, 0.61643836,\n",
      "       0.61643836, 0.61643836, 0.61643836, 0.61643836, 0.61643836,\n",
      "       0.61643836, 0.61643836, 0.61643836, 0.61643836, 0.61643836,\n",
      "       0.61643836, 0.61643836, 0.61643836, 0.61643836, 0.61643836]), 'mean_train_score': array([0.98341443, 0.82342266, 0.78825355, 0.78825355, 0.78675574,\n",
      "       0.78675574, 0.78675574, 0.78675574, 0.78675574, 0.78675574,\n",
      "       0.78675574, 0.78675574, 0.78675574, 0.77029688, 0.63374277,\n",
      "       0.61616172, 0.61616172, 0.61616172, 0.61616172, 0.61616172,\n",
      "       0.61616172, 0.61616172, 0.61616172, 0.61616172, 0.61616172,\n",
      "       0.61616172, 0.61616172, 0.61616172, 0.61616172, 0.61616172,\n",
      "       0.61616172, 0.61616172, 0.61616172, 0.61616172, 0.61616172,\n",
      "       0.61616172, 0.61616172, 0.61616172, 0.61616172, 0.61616172,\n",
      "       0.61616172, 0.61616172, 0.61616172, 0.61616172, 0.61616172,\n",
      "       0.61616172, 0.61616172, 0.61616172, 0.61616172, 0.61616172]), 'std_train_score': array([0.00158168, 0.00887331, 0.00352073, 0.00352073, 0.00310064,\n",
      "       0.00310064, 0.00310064, 0.00310064, 0.00310064, 0.00310064,\n",
      "       0.00310064, 0.00310064, 0.00310064, 0.0514974 , 0.05267685,\n",
      "       0.000317  , 0.000317  , 0.000317  , 0.000317  , 0.000317  ,\n",
      "       0.000317  , 0.000317  , 0.000317  , 0.000317  , 0.000317  ,\n",
      "       0.000317  , 0.000317  , 0.000317  , 0.000317  , 0.000317  ,\n",
      "       0.000317  , 0.000317  , 0.000317  , 0.000317  , 0.000317  ,\n",
      "       0.000317  , 0.000317  , 0.000317  , 0.000317  , 0.000317  ,\n",
      "       0.000317  , 0.000317  , 0.000317  , 0.000317  , 0.000317  ,\n",
      "       0.000317  , 0.000317  , 0.000317  , 0.000317  , 0.000317  ])}\n"
     ]
    }
   ],
   "source": [
    "print(clf.cv_results_)"
   ]
  },
  {
   "cell_type": "code",
   "execution_count": 63,
   "metadata": {},
   "outputs": [],
   "source": [
    "def plot_curve(train_sizes, cv_results, xlabel):\n",
    "    train_scores_mean = cv_results['mean_train_score']\n",
    "    train_scores_std = cv_results['std_train_score']\n",
    "    test_scores_mean = cv_results['mean_test_score']\n",
    "    test_scores_std = cv_results['std_test_score']\n",
    "    plt.figure(figsize=(10, 6), dpi=144)\n",
    "    plt.title('parameters turning')\n",
    "    plt.xlabel(xlabel)\n",
    "    plt.ylabel('score')\n",
    "    plt.fill_between(train_sizes, \n",
    "                     train_scores_mean - train_scores_std,\n",
    "                     train_scores_mean + train_scores_std, \n",
    "                     alpha=0.1, color=\"r\")\n",
    "    plt.fill_between(train_sizes, \n",
    "                     test_scores_mean - test_scores_std,\n",
    "                     test_scores_mean + test_scores_std, \n",
    "                     alpha=0.1, color=\"g\")\n",
    "    plt.plot(train_sizes, train_scores_mean, '.--', color=\"r\",\n",
    "             label=\"Training score\")\n",
    "    plt.plot(train_sizes, test_scores_mean, '.-', color=\"g\",\n",
    "             label=\"Cross-validation score\")\n",
    "\n",
    "    plt.legend(loc=\"best\")"
   ]
  },
  {
   "cell_type": "code",
   "execution_count": 64,
   "metadata": {},
   "outputs": [
    {
     "name": "stderr",
     "output_type": "stream",
     "text": [
      "/anaconda3/envs/Python36/lib/python3.6/site-packages/sklearn/utils/deprecation.py:125: FutureWarning: You are accessing a training score ('mean_train_score'), which will not be available by default any more in 0.21. If you need training scores, please set return_train_score=True\n",
      "  warnings.warn(*warn_args, **warn_kwargs)\n",
      "/anaconda3/envs/Python36/lib/python3.6/site-packages/sklearn/utils/deprecation.py:125: FutureWarning: You are accessing a training score ('std_train_score'), which will not be available by default any more in 0.21. If you need training scores, please set return_train_score=True\n",
      "  warnings.warn(*warn_args, **warn_kwargs)\n"
     ]
    },
    {
     "data": {
      "image/png": "[encoded data removed]",
      "text/plain": [
       "<Figure size 1440x864 with 1 Axes>"
      ]
     },
     "metadata": {},
     "output_type": "display_data"
    }
   ],
   "source": [
    "plot_curve(threshholds, clf.cv_results_, xlabel='gini thresholds')"
   ]
  },
  {
   "cell_type": "code",
   "execution_count": 65,
   "metadata": {},
   "outputs": [
    {
     "name": "stderr",
     "output_type": "stream",
     "text": [
      "/anaconda3/envs/Python36/lib/python3.6/site-packages/sklearn/model_selection/_search.py:841: DeprecationWarning: The default of the `iid` parameter will change from True to False in version 0.22 and will be removed in 0.24. This will change numeric results when test-set sizes are unequal.\n",
      "  DeprecationWarning)\n"
     ]
    },
    {
     "data": {
      "text/plain": [
       "GridSearchCV(cv=10, error_score='raise-deprecating',\n",
       "       estimator=DecisionTreeClassifier(class_weight=None, criterion='gini', max_depth=None,\n",
       "            max_features=None, max_leaf_nodes=None,\n",
       "            min_impurity_decrease=0.0, min_impurity_split=None,\n",
       "            min_samples_leaf=1, min_samples_split=2,\n",
       "            min_weight_fraction_leaf=0.0, presort=False, random_state=None,\n",
       "            splitter='best'),\n",
       "       fit_params=None, iid='warn', n_jobs=None,\n",
       "       param_grid={'criterion': ['gini', 'entropy'], 'min_impurity_decrease': array([0.     , 0.0102 , 0.02041, 0.03061, 0.04082, 0.05102, 0.06122,\n",
       "       0.07143, 0.08163, 0.09184, 0.10204, 0.11224, 0.12245, 0.13265,\n",
       "       0.14286, 0.15306, 0.16327, 0.17347, 0.18367, 0.19388, 0.20408,\n",
       "       0.21429, 0.2..., 0.43878, 0.44898, 0.45918, 0.46939, 0.47959, 0.4898 ,\n",
       "       0.5    ]), 'max_depth': range(2, 15)},\n",
       "       pre_dispatch='2*n_jobs', refit=True, return_train_score='warn',\n",
       "       scoring=None, verbose=0)"
      ]
     },
     "execution_count": 65,
     "metadata": {},
     "output_type": "execute_result"
    }
   ],
   "source": [
    "threshholds = np.linspace(0, 0.5, 50)\n",
    "param_grid = {'criterion':['gini', 'entropy'],\n",
    "              'min_impurity_decrease':threshholds,\n",
    "             'max_depth':range(2, 15)}\n",
    "\n",
    "clf = GridSearchCV(DecisionTreeClassifier(), param_grid, cv=10)\n",
    "clf.fit(X, y)"
   ]
  },
  {
   "cell_type": "code",
   "execution_count": 66,
   "metadata": {},
   "outputs": [
    {
     "name": "stdout",
     "output_type": "stream",
     "text": [
      "best param: {'criterion': 'entropy', 'max_depth': 7, 'min_impurity_decrease': 0.0}\n",
      "best score: 0.8237934904601572\n"
     ]
    }
   ],
   "source": [
    "print(\"best param: {0}\\nbest score: {1}\".format(clf.best_params_, \n",
    "                                                clf.best_score_))"
   ]
  },
  {
   "cell_type": "code",
   "execution_count": null,
   "metadata": {
    "collapsed": true
   },
   "outputs": [],
   "source": []
  }
 ],
 "metadata": {
  "kernelspec": {
   "display_name": "Python 3",
   "language": "python",
   "name": "python3"
  },
  "language_info": {
   "codemirror_mode": {
    "name": "ipython",
    "version": 3
   },
   "file_extension": ".py",
   "mimetype": "text/x-python",
   "name": "python",
   "nbconvert_exporter": "python",
   "pygments_lexer": "ipython3",
   "version": "3.6.8"
  }
 },
 "nbformat": 4,
 "nbformat_minor": 2
}
